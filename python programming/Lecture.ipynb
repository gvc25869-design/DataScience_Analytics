{
 "cells": [
  {
   "cell_type": "code",
   "execution_count": 3,
   "id": "c875067c",
   "metadata": {},
   "outputs": [
    {
     "name": "stdout",
     "output_type": "stream",
     "text": [
      "Hii\n",
      "<class 'int'>\n",
      "100100\n"
     ]
    }
   ],
   "source": [
    "print('Hii')\n",
    "\n",
    "\n",
    "'''\n",
    "Different types of data types\n",
    "1.int\n",
    "2.string\n",
    "3.float\n",
    "4.boolean\n",
    "5.set\n",
    "6.list\n",
    "7.tuple\n",
    "8.dict\n",
    "9.class : Custom Datatype\n",
    "'''\n",
    "a=10\n",
    "b=12\n",
    "print(type(a))\n",
    "x=10 # Single variable Assignment\n",
    "x,y=1000,2000\n",
    "x,y,z,_=1,2,3,4 # Multiple variable Assignment\n",
    "_,a,b,c = 10,20,30,40 \n",
    "\n",
    "num ='100' # String\n",
    "num1=2\n",
    "num2=num*num1\n",
    "print(num2)\n",
    "\n"
   ]
  },
  {
   "cell_type": "code",
   "execution_count": 4,
   "id": "902246aa",
   "metadata": {},
   "outputs": [
    {
     "name": "stdout",
     "output_type": "stream",
     "text": [
      "Hii\n",
      "300\n"
     ]
    }
   ],
   "source": [
    "#print function:\n",
    "\n",
    "print('Hii')\n",
    "print(100+200)\n"
   ]
  },
  {
   "cell_type": "code",
   "execution_count": null,
   "id": "e751b104",
   "metadata": {},
   "outputs": [
    {
     "name": "stdout",
     "output_type": "stream",
     "text": [
      "The Output of Two Mathematical Number Operation 300.0\n",
      "The Output of Two Mathematical Number Operation3\n",
      "The Output of Two Mathematical Number Operation 3\n"
     ]
    }
   ],
   "source": [
    "# Example: Simple Calculator\n",
    "\n",
    "''' \n",
    "\n",
    "Logic:\n",
    "\n",
    "Step1: Ask user to enter the two values \n",
    "Step2: Perform Mathematical Operation\n",
    "Step3: Print the Output\n",
    "'''\n",
    "num1 = float(input('Enter the First Value:'))   #Type casted to float\n",
    "num2 =  float(input('Enter the Second Value:')) #Type casted to float\n",
    "\n",
    "num3 = num1 + num2\n",
    "\n",
    "print('The Output of Two Mathematical Number Operation',num3)\n",
    "\n",
    "print(f'The Output of Two Mathematical Number Operation{3}') #f string method\n",
    "\n",
    "print(f'The Output of Two Mathematical Number Operation {3}'.format(num3))\n",
    "\n",
    "\n",
    "\n",
    "\n",
    "\n",
    "\n",
    "\n",
    "\n"
   ]
  },
  {
   "cell_type": "code",
   "execution_count": null,
   "id": "0530f67c",
   "metadata": {},
   "outputs": [
    {
     "data": {
      "text/plain": [
       "'l'"
      ]
     },
     "execution_count": 23,
     "metadata": {},
     "output_type": "execute_result"
    }
   ],
   "source": [
    "# Concept of Indexing an Slicing\n",
    "\n",
    "str = 'Hello Welcome to the World of python Programming.'\n",
    "\n",
    "str[2]\n",
    "\n"
   ]
  },
  {
   "cell_type": "code",
   "execution_count": 6,
   "id": "b07278fa",
   "metadata": {},
   "outputs": [
    {
     "name": "stdout",
     "output_type": "stream",
     "text": [
      "The Volume of Cylinder is 392.76250000000005 mm^3\n"
     ]
    }
   ],
   "source": [
    "#Example:Write a program to print volume of cylinder\n",
    "'''\n",
    "Volume = Area * Height\n",
    "step1: Ask user to enter the Diameter of Cylinder\n",
    "Step2: Ask user to enter the Height of Cylinder\n",
    "Step3:Volume = Area * height\n",
    "Step4:print the desired output\n",
    "'''\n",
    "PI = 3.1421\n",
    "Diameter = float(input(\"Enter the Diameter of Cylinder:\"))\n",
    "Height = float(input(\"Enter the Height of Cylinder:\"))\n",
    "\n",
    "Volume = (PI/4)*(Diameter**2)* Height\n",
    "\n",
    "print(f'The Volume of Cylinder is {Volume} mm^3')"
   ]
  },
  {
   "cell_type": "code",
   "execution_count": 10,
   "id": "442e4e22",
   "metadata": {},
   "outputs": [
    {
     "name": "stdout",
     "output_type": "stream",
     "text": [
      "Excellent\n"
     ]
    }
   ],
   "source": [
    "# Example:\n",
    "'''\n",
    "Step1: Ask user to enter the Marks\n",
    "Step2: Logic:\n",
    "       Marks > 90: Excellent\n",
    "       90<Marks>60: Bright\n",
    "       Marks less than 60: Moderate\n",
    "step3: print the output       \n",
    "'''\n",
    "Marks = float(input(\"Enter the Marks:\"))\n",
    "\n",
    "if Marks>=90:\n",
    "    print(\"Excellent\")\n",
    "elif Marks < 90 and Marks > 60:\n",
    "    print(\"Bright\")\n",
    "else:\n",
    "    print(\"Average\")    "
   ]
  },
  {
   "cell_type": "code",
   "execution_count": 11,
   "id": "4d5d5aa5",
   "metadata": {},
   "outputs": [
    {
     "name": "stdout",
     "output_type": "stream",
     "text": [
      "0\n",
      "1\n",
      "2\n",
      "3\n",
      "4\n",
      "5\n",
      "6\n",
      "7\n",
      "8\n",
      "9\n"
     ]
    }
   ],
   "source": [
    "# For Loop\n",
    "# range(start,stop,step)\n",
    "for i in range(0,10):\n",
    "    print(i)"
   ]
  },
  {
   "cell_type": "code",
   "execution_count": 12,
   "id": "6b4ffb2c",
   "metadata": {},
   "outputs": [
    {
     "name": "stdout",
     "output_type": "stream",
     "text": [
      "0\n",
      "2\n",
      "4\n",
      "6\n",
      "8\n"
     ]
    }
   ],
   "source": [
    "for i in range(0,10,2):\n",
    "    print(i)"
   ]
  },
  {
   "cell_type": "code",
   "execution_count": 16,
   "id": "f66a971c",
   "metadata": {},
   "outputs": [
    {
     "name": "stdout",
     "output_type": "stream",
     "text": [
      "0 1 2 3 4 5 6 7 8 9 "
     ]
    }
   ],
   "source": [
    "for i in range(0,10):\n",
    "    print(i,end = ' ')"
   ]
  },
  {
   "cell_type": "code",
   "execution_count": 15,
   "id": "39165983",
   "metadata": {},
   "outputs": [
    {
     "name": "stdout",
     "output_type": "stream",
     "text": [
      "\n",
      "*\n",
      "**\n",
      "***\n",
      "****\n",
      "*****\n",
      "******\n",
      "*******\n",
      "********\n",
      "*********\n"
     ]
    }
   ],
   "source": [
    "for i in range(10):\n",
    "    print('*'*i)"
   ]
  },
  {
   "cell_type": "code",
   "execution_count": 19,
   "id": "9c2f27bb",
   "metadata": {},
   "outputs": [
    {
     "name": "stdout",
     "output_type": "stream",
     "text": [
      "0\n",
      "1\n",
      "2\n",
      "3\n",
      "4\n",
      "5\n",
      "6\n"
     ]
    }
   ],
   "source": [
    "for i in range(0,10):\n",
    "    print(i)\n",
    "    if i == 6:\n",
    "        break"
   ]
  },
  {
   "cell_type": "code",
   "execution_count": 20,
   "id": "eaa27198",
   "metadata": {},
   "outputs": [
    {
     "name": "stdout",
     "output_type": "stream",
     "text": [
      "0\n",
      "1\n",
      "2\n",
      "3\n",
      "4\n",
      "5\n",
      "6\n",
      "7\n",
      "8\n",
      "9\n"
     ]
    }
   ],
   "source": [
    "for i in range(0,10):\n",
    "    print(i)\n",
    "    if i == 6:\n",
    "        continue"
   ]
  },
  {
   "cell_type": "code",
   "execution_count": 21,
   "id": "e86f7276",
   "metadata": {},
   "outputs": [
    {
     "name": "stdout",
     "output_type": "stream",
     "text": [
      "0\n",
      "1\n",
      "2\n",
      "3\n",
      "4\n",
      "5\n",
      "6\n",
      "7\n",
      "8\n",
      "9\n"
     ]
    }
   ],
   "source": [
    "for i in range(0,10):\n",
    "    print(i)\n",
    "    if i == 6:\n",
    "        pass"
   ]
  },
  {
   "cell_type": "code",
   "execution_count": null,
   "id": "c24c4d6f",
   "metadata": {},
   "outputs": [],
   "source": [
    "def palindrom():\n",
    "        text1=input(\"Enter the number\")\n",
    "        text2=text1[::-1]\n",
    "        if text1==text2:\n",
    "            print(\"Its a palindrom\")\n",
    "        else:\n",
    "            print(\"Not a palindrom\")\n",
    "            \n",
    "            palindrom()"
   ]
  },
  {
   "cell_type": "code",
   "execution_count": null,
   "id": "af190a8a",
   "metadata": {},
   "outputs": [
    {
     "name": "stdout",
     "output_type": "stream",
     "text": [
      "The Answer is 300\n"
     ]
    }
   ],
   "source": [
    "#Example\n",
    "#Defining a function: Compute\n",
    "def Compute(num1,num2):\n",
    "    num3 = num1 + num2\n",
    "    return num3\n",
    "\n",
    "ans = Compute(100,200)   #Function Calling\n",
    "\n",
    "print(f'The Answer is {ans}')"
   ]
  },
  {
   "cell_type": "code",
   "execution_count": null,
   "id": "5de93411",
   "metadata": {},
   "outputs": [],
   "source": []
  }
 ],
 "metadata": {
  "kernelspec": {
   "display_name": "Python 3",
   "language": "python",
   "name": "python3"
  },
  "language_info": {
   "codemirror_mode": {
    "name": "ipython",
    "version": 3
   },
   "file_extension": ".py",
   "mimetype": "text/x-python",
   "name": "python",
   "nbconvert_exporter": "python",
   "pygments_lexer": "ipython3",
   "version": "3.12.11"
  }
 },
 "nbformat": 4,
 "nbformat_minor": 5
}
