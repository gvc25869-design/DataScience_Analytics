{
 "cells": [
  {
   "cell_type": "code",
   "execution_count": 5,
   "id": "c875067c",
   "metadata": {},
   "outputs": [
    {
     "name": "stdout",
     "output_type": "stream",
     "text": [
      "Hii\n",
      "<class 'int'>\n",
      "100100\n"
     ]
    }
   ],
   "source": [
    "print('Hii')\n",
    "\n",
    "\n",
    "'''\n",
    "Different types of data types\n",
    "1.int\n",
    "2.string\n",
    "3.float\n",
    "4.boolean\n",
    "5.set\n",
    "6.list\n",
    "7.tuple\n",
    "8.dist\n",
    "'''\n",
    "a=10\n",
    "b=12\n",
    "print(type(a))\n",
    "x=10 # Single variable Assignment\n",
    "x,y=100,200\n",
    "x,y,z,_=1,2,3,4\n",
    "\n",
    "num ='100'\n",
    "num1=2\n",
    "num2=num*num1\n",
    "print(num2)\n",
    "\n"
   ]
  }
 ],
 "metadata": {
  "kernelspec": {
   "display_name": "Python 3",
   "language": "python",
   "name": "python3"
  },
  "language_info": {
   "codemirror_mode": {
    "name": "ipython",
    "version": 3
   },
   "file_extension": ".py",
   "mimetype": "text/x-python",
   "name": "python",
   "nbconvert_exporter": "python",
   "pygments_lexer": "ipython3",
   "version": "3.12.11"
  }
 },
 "nbformat": 4,
 "nbformat_minor": 5
}
